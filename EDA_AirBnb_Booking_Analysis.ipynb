{
  "nbformat": 4,
  "nbformat_minor": 0,
  "metadata": {
    "colab": {
      "private_outputs": true,
      "provenance": [],
      "include_colab_link": true
    },
    "kernelspec": {
      "name": "python3",
      "display_name": "Python 3"
    },
    "language_info": {
      "name": "python"
    }
  },
  "cells": [
    {
      "cell_type": "markdown",
      "metadata": {
        "id": "view-in-github",
        "colab_type": "text"
      },
      "source": [
        "<a href=\"https://colab.research.google.com/github/HarshR09/AirBnb-data-Analysis-/blob/main/EDA_AirBnb_Booking_Analysis.ipynb\" target=\"_parent\"><img src=\"https://colab.research.google.com/assets/colab-badge.svg\" alt=\"Open In Colab\"/></a>"
      ]
    },
    {
      "cell_type": "markdown",
      "source": [
        "# **Project Name**    - AirBnb_Bookings_Analysis\n",
        "\n"
      ],
      "metadata": {
        "id": "vncDsAP0Gaoa"
      }
    },
    {
      "cell_type": "markdown",
      "source": [
        "##### **Project Type**    - EDA_Capstone_Project\n",
        "##### **Contribution**    - Individual\n"
      ],
      "metadata": {
        "id": "beRrZCGUAJYm"
      }
    },
    {
      "cell_type": "markdown",
      "source": [
        "# **Project Summary -**"
      ],
      "metadata": {
        "id": "FJNUwmbgGyua"
      }
    },
    {
      "cell_type": "markdown",
      "source": [
        "**AirBnb (Air Bed And Breakfast) is a online market place for booking homestays founded in 2008 and since then to expand on traveling possibilities and present a more unique, personalized way of experiencing the stay during holiday vacation or business trip. Today, Airbnb services are available are available allover the whole world. Data analysis on millions of listings provided through Airbnb is a crucial factor for the company. These millions of listings generate a lot of data - data that can be analyzed and used for security, business decisions, understanding of customers' and providers' (hosts) behavior and performance on the platform, guiding marketing initiatives, implementation of innovative additional services and much more**.\n",
        "\n",
        "**This dataset has around 49,000 observations in it with 16 columns and it is a mix between categorical and numeric values**.\n",
        "\n",
        "**Explore and analyze the data to discover key understandings (not limited to these) such as** :\n",
        "\n",
        "\n",
        "\n",
        "*   What can we learn about different AirBnb locations and Hosts?\n",
        "*   What can we learn from data analysis? (ex: locations, prices, reviews, etc)\n",
        "*   Which hosts are the busiest and why?\n",
        "*   Is there any noticeable difference of traffic among different areas and what could be the reason for it?\n",
        "\n",
        "Explore and analyze the data to discover important factors that govern the listings.\n",
        "\n",
        "\n",
        "\n",
        "\n"
      ],
      "metadata": {
        "id": "F6v_1wHtG2nS"
      }
    },
    {
      "cell_type": "markdown",
      "source": [
        "# **GitHub Link -**"
      ],
      "metadata": {
        "id": "w6K7xa23Elo4"
      }
    },
    {
      "cell_type": "markdown",
      "source": [
        "https://github.com/HarshR09/AirBnb-data-Analysis-"
      ],
      "metadata": {
        "id": "h1o69JH3Eqqn"
      }
    },
    {
      "cell_type": "markdown",
      "source": [
        "### **Import Libraries**"
      ],
      "metadata": {
        "id": "Y3lxredqlCYt"
      }
    },
    {
      "cell_type": "code",
      "source": [
        "# Importing NumPy,Pands,Matplotlib and Seaborn libraries (Necessory for exploring data and visualisation)\n",
        "\n",
        "import pandas as pd\n",
        "import numpy as np\n",
        "import matplotlib.pyplot as plt\n",
        "import seaborn as sns"
      ],
      "metadata": {
        "id": "M8Vqi-pPk-HR"
      },
      "execution_count": null,
      "outputs": []
    },
    {
      "cell_type": "markdown",
      "source": [
        "### **Dataset Loading**"
      ],
      "metadata": {
        "id": "3RnN4peoiCZX"
      }
    },
    {
      "cell_type": "code",
      "source": [
        "# Load Dataset\n",
        "\n",
        "from google.colab import drive\n",
        "drive.mount('/content/drive')\n",
        "\n",
        "file_path = \"/content/drive/MyDrive/Data Set/Capstone_Harshvardhan_Rajput_Airbnb NYC 2019.csv\"\n",
        "Abnb_df = pd.read_csv(file_path)"
      ],
      "metadata": {
        "id": "_XTZTB7_V0Dt"
      },
      "execution_count": null,
      "outputs": []
    },
    {
      "cell_type": "markdown",
      "source": [
        "### **Know your data**"
      ],
      "metadata": {
        "id": "ps43-_CTrRh8"
      }
    },
    {
      "cell_type": "markdown",
      "source": [
        "### Dataset First View"
      ],
      "metadata": {
        "id": "x71ZqKXriCWQ"
      }
    },
    {
      "cell_type": "code",
      "source": [
        "# Dataset First Look\n",
        "Abnb_df.head()"
      ],
      "metadata": {
        "id": "LWNFOSvLl09H"
      },
      "execution_count": null,
      "outputs": []
    },
    {
      "cell_type": "markdown",
      "source": [
        "### Dataset Rows & Columns count"
      ],
      "metadata": {
        "id": "7hBIi_osiCS2"
      }
    },
    {
      "cell_type": "code",
      "source": [
        "# Dataset Rows & Columns count\n",
        "Abnb_df.shape"
      ],
      "metadata": {
        "id": "Kllu7SJgmLij"
      },
      "execution_count": null,
      "outputs": []
    },
    {
      "cell_type": "markdown",
      "source": [
        "### Dataset Information"
      ],
      "metadata": {
        "id": "JlHwYmJAmNHm"
      }
    },
    {
      "cell_type": "code",
      "source": [
        "# Dataset Info\n",
        "Abnb_df.info()"
      ],
      "metadata": {
        "id": "e9hRXRi6meOf"
      },
      "execution_count": null,
      "outputs": []
    },
    {
      "cell_type": "markdown",
      "source": [
        "## ***Understanding Your Variables***"
      ],
      "metadata": {
        "id": "nA9Y7ga8ng1Z"
      }
    },
    {
      "cell_type": "code",
      "source": [
        "# Dataset Columns\n",
        "Abnb_df.columns"
      ],
      "metadata": {
        "id": "j7xfkqrt5Ag5"
      },
      "execution_count": null,
      "outputs": []
    },
    {
      "cell_type": "code",
      "source": [
        "# Dataset Describe\n",
        "Abnb_df.describe()"
      ],
      "metadata": {
        "id": "DnOaZdaE5Q5t"
      },
      "execution_count": null,
      "outputs": []
    },
    {
      "cell_type": "markdown",
      "source": [
        "**Inference**:\n",
        " \n",
        "\n",
        "*   We can say that average room prices are 152 USD in New York.\n",
        "*   75% of rooms have a price of 175 USD.\n",
        "\n",
        "*   The minimum price is 0, which is incorrect data, so we have to deal with such rows where price is 0.\n",
        "*   maximum value of minimum_nights is 1250 which is definitely an outlier.\n",
        "*   Maximum price is 10000 which is an outlier.\n",
        "\n",
        "\n",
        "\n",
        "\n",
        "\n"
      ],
      "metadata": {
        "id": "rjpYOypexBmb"
      }
    },
    {
      "cell_type": "markdown",
      "source": [
        "\n",
        "# **Variables Description** "
      ],
      "metadata": {
        "id": "PBTbrJXOngz2"
      }
    },
    {
      "cell_type": "markdown",
      "source": [
        "*a) id: Unique serial number.\n",
        "\n",
        "b) name: Name given to each accomodation.\n",
        "\n",
        "c) host_id: Unique serial number given to each host.\n",
        "\n",
        "d) host_name: Name of every host.\n",
        "\n",
        "e) neighbourhood_group: Various district within New York city.\n",
        "\n",
        "f) neighbourhood: Various towns within each neighbourhood_group.\n",
        "\n",
        "g) latitude and longitude: It is geographic coordinates that specify the position of a particular location.\n",
        "\n",
        "h) room_type: Different types of rooms depending on the size.\n",
        "\n",
        "i) price: Cost of the rooms per night.\n",
        "\n",
        "j) minimum_nights: minimum umber of nights, guests have to stay in that accomodation.\n",
        "\n",
        "k) number_of_reviews: Number of times guests give reviews.\n",
        "\n",
        "l) last_review: Date of last review.\n",
        "\n",
        "m) reviews_per_month: Ratio of number of reviews to number of days in each month.\n",
        "\n",
        "n) calculated_host_listings_count: Number of accomodation listed by hosts according to room type.\n",
        "\n",
        "o)availability_365: Number of days, rooms are available in a year."
      ],
      "metadata": {
        "id": "aJV4KIxSnxay"
      }
    },
    {
      "cell_type": "markdown",
      "source": [
        "### **Check Unique Values for each variable**."
      ],
      "metadata": {
        "id": "u3PMJOP6ngxN"
      }
    },
    {
      "cell_type": "code",
      "source": [
        "# Check Unique Values for host_names.\n",
        "Abnb_df['host_name'].nunique()\n"
      ],
      "metadata": {
        "id": "zms12Yq5n-jE"
      },
      "execution_count": null,
      "outputs": []
    },
    {
      "cell_type": "code",
      "source": [
        " #Check Unique Values for room type.\n",
        "Abnb_df['room_type'].nunique()\n"
      ],
      "metadata": {
        "id": "AeJAos3i5LVk"
      },
      "execution_count": null,
      "outputs": []
    },
    {
      "cell_type": "code",
      "source": [
        "Abnb_df['room_type'].unique()"
      ],
      "metadata": {
        "id": "_hIWDqGuX4kZ"
      },
      "execution_count": null,
      "outputs": []
    },
    {
      "cell_type": "code",
      "source": [
        " #Check Unique Values for neighbourhood group.\n",
        "Abnb_df['neighbourhood_group'].nunique()"
      ],
      "metadata": {
        "id": "KEW1Qs815LK7"
      },
      "execution_count": null,
      "outputs": []
    },
    {
      "cell_type": "code",
      "source": [
        "Abnb_df['neighbourhood_group'].unique()"
      ],
      "metadata": {
        "id": "h3Ojr8vxX7rU"
      },
      "execution_count": null,
      "outputs": []
    },
    {
      "cell_type": "code",
      "source": [
        "#Check Unique Values for neighbourhood.\n",
        "Abnb_df['neighbourhood'].nunique()"
      ],
      "metadata": {
        "id": "z-UefI8N5Wpk"
      },
      "execution_count": null,
      "outputs": []
    },
    {
      "cell_type": "markdown",
      "source": [
        "##  ***Data Wrangling***"
      ],
      "metadata": {
        "id": "dauF4eBmngu3"
      }
    },
    {
      "cell_type": "markdown",
      "source": [
        "## **Duplicate Values**"
      ],
      "metadata": {
        "id": "35m5QtbWiB9F"
      }
    },
    {
      "cell_type": "code",
      "source": [
        "# Dataset Duplicate Value Count\n",
        "Abnb_df.drop_duplicates(inplace = True)\n"
      ],
      "metadata": {
        "id": "1sLdpKYkmox0"
      },
      "execution_count": null,
      "outputs": []
    },
    {
      "cell_type": "markdown",
      "source": [
        "## **Missing Values/Null Values**"
      ],
      "metadata": {
        "id": "YdFB7OxbKoSh"
      }
    },
    {
      "cell_type": "code",
      "source": [
        "#This code will return us valid and valuable information about the dataset \n",
        "#also we can see that the verbose mode is on so it will give all the hidden information also.\n",
        "\n",
        "Abnb_df.info(verbose = True)"
      ],
      "metadata": {
        "id": "kTIMvwikVTNp"
      },
      "execution_count": null,
      "outputs": []
    },
    {
      "cell_type": "code",
      "source": [
        "# Missing Values/Null Values Count\n",
        "Abnb_df.isna().sum()"
      ],
      "metadata": {
        "id": "2cmVQPTbKpan"
      },
      "execution_count": null,
      "outputs": []
    },
    {
      "cell_type": "code",
      "source": [
        "# Missing Data visualistaion\n",
        "\n",
        "missing = pd.DataFrame((Abnb_df.isnull().sum())*100/Abnb_df.shape[0]).reset_index()\n",
        "plt.figure(figsize=(10,5))\n",
        "ax = sns.pointplot('index',0,data=missing)\n",
        "plt.xticks(rotation =90,fontsize =7)\n",
        "plt.title(\"Percentage of Missing values\")\n",
        "plt.ylabel(\"PERCENTAGE\")\n",
        "plt.show()"
      ],
      "metadata": {
        "id": "Y5BF2hiBV0ln"
      },
      "execution_count": null,
      "outputs": []
    },
    {
      "cell_type": "markdown",
      "source": [
        "## **Insights**\n",
        "\n",
        "Last review and reviews per month have maximum number of missing values."
      ],
      "metadata": {
        "id": "gIxXB9vjHYQR"
      }
    },
    {
      "cell_type": "code",
      "source": [
        "# Price distribution box plot\n",
        "Abnb_df.groupby(['id', 'host_id','latitude','longitude']).mean().plot(kind=\"box\", figsize = [16,10])\n",
        "plt.title('Distribution by variable Type')\n",
        "plt.xlabel('Property Type')"
      ],
      "metadata": {
        "id": "EwqjhVr_FF-7"
      },
      "execution_count": null,
      "outputs": []
    },
    {
      "cell_type": "markdown",
      "source": [
        "## **Insights**\n",
        "\n",
        "The data which is outside the 1.5*IQR, (where, IQR = inter-quartile range (25 - 75) percentile) are considered as an outlier.\n",
        "Here price range have the maximum outliers.\n"
      ],
      "metadata": {
        "id": "yB8IojOoG0xV"
      }
    },
    {
      "cell_type": "markdown",
      "source": [
        "**Missing Data – Initial Intuition**\n",
        "\n",
        "Here last_review and reviews_per_month have most number of missing values"
      ],
      "metadata": {
        "id": "lFnEDCodW0uk"
      }
    },
    {
      "cell_type": "code",
      "source": [
        "# dropping missing values from host name column, Since host name has only 21 missing values, this will not effect over all data\n",
        "Abnb_df.dropna(axis = 0 , subset = ['host_name'], inplace = True)\n",
        "\n"
      ],
      "metadata": {
        "id": "wk-9a2fpoLcV"
      },
      "execution_count": null,
      "outputs": []
    },
    {
      "cell_type": "code",
      "source": [
        "#replacing missing values from reviews per month column to 0\n",
        "Abnb_df['reviews_per_month'].fillna(0, inplace = True)"
      ],
      "metadata": {
        "id": "sWddIFssJbeD"
      },
      "execution_count": null,
      "outputs": []
    },
    {
      "cell_type": "code",
      "source": [
        "#Removing columns which are not importand for data analysis( ie - columns which do not contribute for data analysis)\n",
        "\n",
        "new_Abnb_df = Abnb_df.drop(['id', 'host_id', 'name', 'last_review'], axis = 1)\n",
        "\n",
        "#storing remaining cloumns in a new table new_Abnb_df"
      ],
      "metadata": {
        "id": "VFLWYPzfJb7n"
      },
      "execution_count": null,
      "outputs": []
    },
    {
      "cell_type": "markdown",
      "source": [
        "### **Data Vizualization**\n",
        "\n",
        "**Relation between Neighbourhood groups nad Neighbourhood and other variables**\n",
        "\n",
        "\n",
        "\n",
        "\n",
        "\n"
      ],
      "metadata": {
        "id": "GF8Ens_Soomf"
      }
    },
    {
      "cell_type": "code",
      "source": [
        "# Bar Plot\n",
        "# Number of listings distributed according to Neighbourhood groups.\n",
        "neighbourhood_group_listings = new_Abnb_df.groupby('neighbourhood_group')['calculated_host_listings_count'].count()\n",
        "plt.rcParams['figure.figsize'] = (15, 5)\n",
        "neighbourhood_group_listings.plot(kind='bar')\n",
        "\n",
        "plt.title('Number of listings distributed according to Neighbourhood groups')\n",
        "plt.ylabel('Listing count')\n",
        "plt.xlabel('Neighbourhood groups')"
      ],
      "metadata": {
        "id": "7v_ESjsspbW7"
      },
      "execution_count": null,
      "outputs": []
    },
    {
      "cell_type": "markdown",
      "source": [
        "**Insights**\n",
        "\n",
        "Above graph gives us insight into AirBnb listings across different neighbourhood groups.\n",
        "\n",
        "\n",
        "*   Manhattan have the highest AirBnb listings followed by Brooklyn\n",
        "*   Statan Island have lowest number of AirBnb listings\n",
        "\n"
      ],
      "metadata": {
        "id": "XESiWehPqBRc"
      }
    },
    {
      "cell_type": "code",
      "source": [
        "# Since Manhattan and Brooklyn have maximum number istings,\n",
        "# we can also analyse the listing distribution  among different Neighbourhoods in Manhattan and Brooklyn.\n",
        "max_listings_df = new_Abnb_df[['neighbourhood_group','neighbourhood']]\n",
        "manhattan_df= max_listings_df.groupby(['neighbourhood_group'])['neighbourhood'].value_counts().Manhattan.nlargest(10)\n",
        "\n",
        "\n"
      ],
      "metadata": {
        "id": "R4YgtaqtYklH"
      },
      "execution_count": null,
      "outputs": []
    },
    {
      "cell_type": "code",
      "source": [
        "#Bar graph for top 10 listings in different Neighbourhoods in Manhattan District.\n",
        "ax = manhattan_df.plot.bar(figsize = (10,5),fontsize = 14,color = 'c')\n",
        "\n",
        "#Set the title\n",
        "ax.set_title(\"Top 10 neighbourhood listings in Manhattan\", fontsize = 20)\n",
        "\n",
        "# Set x and y-labels\n",
        "ax.set_xlabel(\"Neighbourhood\", fontsize = 18)\n",
        "ax.set_ylabel(\"Listing count \", fontsize = 18)"
      ],
      "metadata": {
        "id": "EemB22gXnUN7"
      },
      "execution_count": null,
      "outputs": []
    },
    {
      "cell_type": "markdown",
      "source": [
        "**Insights**\n",
        "\n",
        "Above graph raflects Harlem is top destination in Manhattan followed by upper west side. This indidicate Harlem is major tourist attaraction and business city."
      ],
      "metadata": {
        "id": "PSx9atu2YklI"
      }
    },
    {
      "cell_type": "code",
      "source": [
        "#We can find similar neighbourhoods in Brooklyn, which is the second most important visited neighbourhood_group.\n",
        "brooklyn_df= max_listings_df.groupby(['neighbourhood_group'])['neighbourhood'].value_counts().Brooklyn.nlargest(10)\n",
        "\n",
        "#Bar graph for top 10 listings in different Neighbourhood in Brooklyn District.\n",
        "ax = brooklyn_df.plot.bar(figsize = (10,5),fontsize = 14,color = 'limegreen')\n",
        "\n",
        "#Set the title\n",
        "ax.set_title(\"Top 10 neighbourhood listings in Brooklyn\", fontsize = 20)\n",
        "\n",
        "# Set x and y-labels\n",
        "ax.set_xlabel(\"Neighbourhood\", fontsize = 18)\n",
        "ax.set_ylabel(\"Listing count \", fontsize = 18)"
      ],
      "metadata": {
        "id": "t6GMdE67YoAp"
      },
      "execution_count": null,
      "outputs": []
    },
    {
      "cell_type": "markdown",
      "source": [
        "**Insights**\n",
        "\n",
        "Above graph shows, in  Williamsburg have most AirBnb listings followed by Bedford-Stuyvesant in Brooklyn district."
      ],
      "metadata": {
        "id": "5dBItgRVYoAp"
      }
    },
    {
      "cell_type": "code",
      "source": [
        "#Average price of AirBnb in different neighbourhood_group\n",
        "neighbourgod_group_by_price = new_Abnb_df.groupby('neighbourhood_group')['price'].mean().sort_values(ascending =False)\n",
        "\n",
        "plt.figure(figsize=[16,8])\n",
        "neighbourgod_group_by_price.plot(kind= 'bar',title = 'Average prices in each neighbourhood group', xlabel ='Neighbourhood group' ,ylabel= 'Average price', color = 'lightcoral')\n"
      ],
      "metadata": {
        "id": "kuRf4wtuphqN"
      },
      "execution_count": null,
      "outputs": []
    },
    {
      "cell_type": "markdown",
      "source": [
        "## **Insights**\n",
        "\n",
        "Above location wise price distribution shows that Manhattan is expensive compared to other neighbourhood groups in new york.\n",
        "\n",
        "Bronx has low priced rooms (Almost half compared to Manhattan)"
      ],
      "metadata": {
        "id": "YtYia0GTq81C"
      }
    },
    {
      "cell_type": "code",
      "source": [
        "# Average price of AirBnb in each neighbourhood_group with respect to Room type.\n",
        "neighbourgod_group_by_price_room_type = new_Abnb_df.groupby(['neighbourhood_group','room_type'])['price'].mean().sort_values(ascending =False).unstack()\n",
        "\n",
        "\n",
        "neighbourgod_group_by_price_room_type.plot(kind= 'bar',title = 'Average prices in each neighbourhood group', xlabel ='Neighbourhood group' ,ylabel= 'Average price',figsize=[16,8])\n"
      ],
      "metadata": {
        "id": "lqAIGUfyphqO"
      },
      "execution_count": null,
      "outputs": []
    },
    {
      "cell_type": "markdown",
      "source": [
        "## **Insights**\n",
        "\n",
        "According to above chart, it is clearly visible the most sought after room type in each neighbourhood group is Private_room and Entire_home/apt.\n",
        "\n",
        "As the maximum number of preferred roms are present in Manhattan and Brooklyn respectively. Queens too have a sizeable amount of rooms, followed by Bronx and Staten Island.\n"
      ],
      "metadata": {
        "id": "1dZvPyUUu3mM"
      }
    },
    {
      "cell_type": "markdown",
      "source": [
        "## **Data Vizualization**\n",
        "**Relation between hosts and other variables**"
      ],
      "metadata": {
        "id": "6rCpMrGbDb_x"
      }
    },
    {
      "cell_type": "code",
      "source": [
        "#which host have maximum number of listings in New York\n",
        "df2 = new_Abnb_df[['host_name','calculated_host_listings_count']]\n",
        "df_host_listing_count= df2.groupby(['host_name'])['calculated_host_listings_count'].count().sort_values(ascending= False).nlargest(10)\n",
        "\n",
        "plt.figure(figsize=[15,10])\n",
        "df_host_listing_count.plot(kind= 'bar', xlabel = 'Host name', ylabel= 'Number of listings', color = ['firebrick', 'pink', 'blue', 'yellow', 'red', \n",
        "                                                                              'purple', 'seagreen', 'skyblue', 'magenta', 'tomato'])\n"
      ],
      "metadata": {
        "id": "QPHTTGVtDtEF"
      },
      "execution_count": null,
      "outputs": []
    },
    {
      "cell_type": "markdown",
      "source": [
        "## **Insights**\n",
        "\n",
        "*   Above chart shows 10 hosts with maximum number of AirBnb listings in New York.\n",
        "\n",
        "*   Michael, David, and Sonder have maximum listed AirBnb's among all the hosts.\n",
        "\n",
        "\n",
        "\n",
        "\n"
      ],
      "metadata": {
        "id": "UDDhuKDBihZj"
      }
    },
    {
      "cell_type": "code",
      "source": [
        "# Top 10 hosts who have higher potential for income from all AirBnb listed under their names\n",
        "df3 = new_Abnb_df[['host_name','price','reviews_per_month','number_of_reviews']]\n",
        "host_name_by_price_df= df3.groupby(['host_name'])['price'].sum().nlargest(10)\n",
        "plt.figure(figsize=[15,10])\n",
        "host_name_by_price_df.plot(kind= 'bar', title = 'Top 10 hosts who have higher price income',ylabel= 'Potential income in USD')"
      ],
      "metadata": {
        "id": "ZeUP9e0MP6YO"
      },
      "execution_count": null,
      "outputs": []
    },
    {
      "cell_type": "markdown",
      "source": [
        "## **Insights**\n",
        "\n",
        "Above graph shows top AirBnB hosts who can generate high income from all listings under their names."
      ],
      "metadata": {
        "id": "rMs3WFz4Swer"
      }
    },
    {
      "cell_type": "code",
      "source": [
        "#Which neighbourhood group and Room type is preferred by top three hosts\n",
        "\n",
        "#--------------------------------------------------------\n",
        "\n",
        "#Neighbourhood_grouppreferred by  host Sonder\n",
        "\n",
        "Sonder_df = new_Abnb_df[new_Abnb_df['host_name']=='Sonder (NYC)']\n",
        "host1_df = Sonder_df['neighbourhood_group'].value_counts()\n",
        "ax = host1_df.plot.pie(legend = True ,autopct='%1.1f%%',figsize=(10,5))\n",
        "\n",
        "#Room type preferred by host Sonder\n",
        "host2_df = Sonder_df['room_type'].value_counts()\n",
        "plt.figure(figsize=[10,5])\n",
        "host2_df.plot(kind= 'bar',xlabel ='Preferred Room type' ,ylabel= 'Number of listings',color = ['cornflowerblue','orange','green'])"
      ],
      "metadata": {
        "id": "SkI5FEZQYWEY"
      },
      "execution_count": null,
      "outputs": []
    },
    {
      "cell_type": "code",
      "source": [
        "#Which neighbourhood group is preferred by top hosts\n",
        "#Neighbourhood_group prefeeered by  host Michael\n",
        "\n",
        "Michael_df = new_Abnb_df[new_Abnb_df['host_name']=='Michael']\n",
        "host3_df = Michael_df['neighbourhood_group'].value_counts()\n",
        "ax = host3_df.plot.pie(legend = True ,autopct='%1.1f%%',figsize=(10,5))\n",
        "\n",
        "#Room type preferred by host Michael\n",
        "host4_df = Michael_df['room_type'].value_counts()\n",
        "plt.figure(figsize=[10,5])\n",
        "host4_df.plot(kind= 'bar',xlabel ='Preferred Room type' ,ylabel= 'Number of listings',color = ['cornflowerblue','orange','green'])"
      ],
      "metadata": {
        "id": "Q91XIHHiZ1bd"
      },
      "execution_count": null,
      "outputs": []
    },
    {
      "cell_type": "code",
      "source": [
        "#Which neighbourhood group is preferred by top hosts\n",
        "#Neighbourhood_group prefeeered by  host David \n",
        "\n",
        "David_df = new_Abnb_df[new_Abnb_df['host_name']=='David']\n",
        "host5_df = David_df['neighbourhood_group'].value_counts()\n",
        "ax = host5_df.plot.pie( legend = True ,autopct='%1.1f%%',figsize=(10,5))\n",
        "\n",
        "#Room type preferred by host David\n",
        "host6_df = David_df['room_type'].value_counts()\n",
        "plt.figure(figsize=[10,5])\n",
        "host6_df.plot(kind= 'bar',xlabel ='Preferred Room type' ,ylabel= 'Number of listings',color = ['cornflowerblue','orange','green'])"
      ],
      "metadata": {
        "id": "MTxfbACRaLBn"
      },
      "execution_count": null,
      "outputs": []
    },
    {
      "cell_type": "markdown",
      "source": [
        "### **Insights**\n",
        "\n",
        "\n",
        "*   Above three pie charts indicate that Manhattan and Brooklyn are most   preferred districts for doing business for AirBnb hosts in new york.\n",
        "\n",
        "*   Bar chart indicates that Entire home/apt is most preffered room type by top hosts.\n",
        "\n",
        "*   Private room is the second most preferred room type\n",
        "\n",
        "\n",
        "\n",
        "\n",
        "\n",
        "\n"
      ],
      "metadata": {
        "id": "R26kDPezab0M"
      }
    },
    {
      "cell_type": "code",
      "source": [
        "# Find out Who are the top 10 most reviewed hosts are.\n",
        "\n",
        "review_df = df3.groupby('host_name')['reviews_per_month'].max().sort_values(ascending=False).head(10)\n",
        "\n",
        "plt.figure(figsize=[16,8])\n",
        "review_df.plot(kind= 'bar',title = 'Most reviewd Hosts', xlabel ='Host name' ,ylabel= 'Number of Reviews')"
      ],
      "metadata": {
        "id": "FymMFNauhWNc"
      },
      "execution_count": null,
      "outputs": []
    },
    {
      "cell_type": "markdown",
      "source": [
        "## **Insights**\n",
        "\n",
        "Above Graph show top 10 hosts who received most number of reviews in a month\n",
        "*   Row NYC received the maximum number of reviews per month followed by Lauann\n",
        "\n",
        "\n"
      ],
      "metadata": {
        "id": "KYj1TjxqnOjl"
      }
    },
    {
      "cell_type": "markdown",
      "source": [
        "### **Data Vizualization**\n",
        "\n",
        "**Relation between price and other variables**"
      ],
      "metadata": {
        "id": "BZR9WyysphqO"
      }
    },
    {
      "cell_type": "code",
      "source": [
        "plt.figure(figsize=(12,8))\n",
        "sns.distplot(new_Abnb_df['price'], hist=True)"
      ],
      "metadata": {
        "id": "TdPTWpAVphqO"
      },
      "execution_count": null,
      "outputs": []
    },
    {
      "cell_type": "markdown",
      "source": [
        "# **Insights**\n",
        "\n",
        "As we see the price distribution is a skewed tail, This means the outliers of the distribution curve are further out towards the right and closer to the mean on the left.\n",
        "\n",
        "Above graphalso shows that prices of most rooms is between 0 and $1000\n",
        "\n"
      ],
      "metadata": {
        "id": "3LbJdP2f3YlI"
      }
    },
    {
      "cell_type": "code",
      "source": [
        "plt.figure(figsize=(12,7))\n",
        "sns.distplot(np.log(new_Abnb_df[~(new_Abnb_df['price']==0)]['price']))"
      ],
      "metadata": {
        "id": "B2aS4O1ophqO"
      },
      "execution_count": null,
      "outputs": []
    },
    {
      "cell_type": "code",
      "source": [
        "#Find price distribution (between 0 to 100, 100 to 200 and 200>) categorising pricess as A,B,C\n",
        "#A= 0-100\n",
        "#B=100-200\n",
        "#C= >200\n",
        "\n",
        "new_Abnb_df['price_distribution'] = new_Abnb_df['price'].apply(lambda x : 'A' if x<100 else ('B' if 100<= x < 200 else 'C'))\n",
        "new_Abnb_df['price_distribution'].value_counts()"
      ],
      "metadata": {
        "id": "mAQTIvtqp1cj"
      },
      "execution_count": null,
      "outputs": []
    },
    {
      "cell_type": "markdown",
      "source": [
        "From above information we can conclude that:-\n",
        "\n",
        "21877 rooms having price less than 100\n",
        "\n",
        "17233 rooms havind price between 100 to 200\n",
        "\n",
        "9785 rooms having price greater than 200\n",
        "\n",
        "Most rooms are below 200 price range with almost 80% and very few are more than 200."
      ],
      "metadata": {
        "id": "i5oBdOrQ5YU3"
      }
    },
    {
      "cell_type": "code",
      "source": [
        "price_df = new_Abnb_df['price_distribution'].value_counts()\n",
        "\n",
        "ax = price_df.plot.pie(legend = True ,autopct='%1.1f%%',figsize=(12,8))"
      ],
      "metadata": {
        "id": "V19Y2wdz5WdI"
      },
      "execution_count": null,
      "outputs": []
    },
    {
      "cell_type": "markdown",
      "source": [
        "## **Insights**\n",
        "\n",
        "Above chart shows maximum room prices are less than 100 and only 20% prices are above 200 USD  "
      ],
      "metadata": {
        "id": "PC3cylxX7kP_"
      }
    },
    {
      "cell_type": "code",
      "source": [
        "#Average price of AirBnb listings based on room type \n",
        "avgprice_room_type = new_Abnb_df.groupby('room_type')['price'].mean().reset_index().sort_values('price',ascending=False)\n",
        "\n",
        "# Barplot to see different room type by price\n",
        "plt.figure(figsize=[12,8])\n",
        "\n",
        "ax = sns.barplot(x='price', y='room_type', data=avgprice_room_type)\n",
        "plt.title('Average price of Airbnb based on room type',size=18)\n",
        "ax.set_xlabel('price',size =18);"
      ],
      "metadata": {
        "id": "bwevp1tKp1ck"
      },
      "execution_count": null,
      "outputs": []
    },
    {
      "cell_type": "markdown",
      "source": [
        "## **Insights**\n",
        "\n",
        "*   Most expensive room type is entire home followed by private and share room.\n",
        "*   Shared room type is the cheapest.\n",
        "\n"
      ],
      "metadata": {
        "id": "5T2z0c2R-PxH"
      }
    },
    {
      "cell_type": "code",
      "source": [
        "#Find out the most expensive neighbourhood in top two Neighbourhood Groups - Manhattan and Brooklyn\n",
        "\n",
        "#For Average prices in each neighbourhood in Manhattan\n",
        "\n",
        "expensive_manhattan_neighbourhood_groups = pd.DataFrame(new_Abnb_df.groupby(['neighbourhood_group', 'neighbourhood'])['price'].mean().Manhattan.nlargest(10))\n",
        "\n",
        "expensive_manhattan_neighbourhood_groups.plot(kind= 'bar',title = 'Average prices in each neighbourhood in Manhattan', xlabel ='Neighbourhood' ,ylabel= 'Average price', color = 'mediumslateblue',figsize=[16,8])\n",
        "\n"
      ],
      "metadata": {
        "id": "6Zo1VGmy9F0q"
      },
      "execution_count": null,
      "outputs": []
    },
    {
      "cell_type": "code",
      "source": [
        "#For Average prices in each neighbourhood in Brooklyn\n",
        "\n",
        "expensive_brooklyn_neighbourhood_groups = pd.DataFrame(new_Abnb_df.groupby(['neighbourhood_group', 'neighbourhood'])['price'].mean().Brooklyn.nlargest(10))\n",
        "\n",
        "expensive_brooklyn_neighbourhood_groups.plot(kind= 'bar',title = 'Average prices in each neighbourhood in Brooklyn', xlabel ='Neighbourhood' ,ylabel= 'Average price', color = 'mediumslateblue',figsize=[16,8])\n"
      ],
      "metadata": {
        "id": "22qsKTzPBArQ"
      },
      "execution_count": null,
      "outputs": []
    },
    {
      "cell_type": "markdown",
      "source": [
        "## **Insights**\n",
        "\n",
        "Tribeca and Sea Gate are the most expansive AirBnb Neighbourhoods in Manhattan and Brooklyn."
      ],
      "metadata": {
        "id": "NK8_fduZBUk4"
      }
    },
    {
      "cell_type": "markdown",
      "source": [
        "## **Plotting AirBnb listings Map of ney york city**"
      ],
      "metadata": {
        "id": "qi4_Fm-_2vxm"
      }
    },
    {
      "cell_type": "markdown",
      "source": [
        "**install geopandas using pip**\n",
        "\n",
        "\n",
        "\n",
        "\n"
      ],
      "metadata": {
        "id": "OhaDdCDew1YA"
      }
    },
    {
      "cell_type": "code",
      "source": [
        "!pip install geopandas"
      ],
      "metadata": {
        "id": "Et9mmBHTw0J8"
      },
      "execution_count": null,
      "outputs": []
    },
    {
      "cell_type": "code",
      "source": [
        "import geopandas as gpd\n",
        "from shapely.geometry import Point, Polygon"
      ],
      "metadata": {
        "id": "UMULa0O4vAgf"
      },
      "execution_count": null,
      "outputs": []
    },
    {
      "cell_type": "code",
      "source": [
        "#read .shp file\n",
        "new_york_map = gpd.read_file('/content/drive/MyDrive/New York coordinates/geo_export_d8028617-3a91-4a13-b8b5-1e20acf3d6fc.shp')"
      ],
      "metadata": {
        "id": "Nuj_ycNWvAc-"
      },
      "execution_count": null,
      "outputs": []
    },
    {
      "cell_type": "markdown",
      "source": [
        ".shp file for NYC map can be found at https://data.cityofnewyork.us/City-"
      ],
      "metadata": {
        "id": "GWUZtJxlwVdH"
      }
    },
    {
      "cell_type": "markdown",
      "source": [
        "**Creating GeoPandas DataFrame**"
      ],
      "metadata": {
        "id": "P7xJEpVTxe4X"
      }
    },
    {
      "cell_type": "code",
      "source": [
        "#zip x and y coordinates into single feature\n",
        "location = [Point(xy) for xy in zip(Abnb_df['longitude'], Abnb_df['latitude'])]\n",
        "# create GeoPandas dataframe\n",
        "geo_df = gpd.GeoDataFrame(Abnb_df,\n",
        "geometry = location)"
      ],
      "metadata": {
        "id": "5RQCENyNv6oj"
      },
      "execution_count": null,
      "outputs": []
    },
    {
      "cell_type": "code",
      "source": [
        "geo_df.head()"
      ],
      "metadata": {
        "id": "b6og6C0A0_2j"
      },
      "execution_count": null,
      "outputs": []
    },
    {
      "cell_type": "code",
      "source": [
        "#create figure and axes, assign to subplot\n",
        "fig, ax = plt.subplots(figsize=(15,15))\n",
        "# add .shp mapfile to axes\n",
        "new_york_map.plot(ax=ax, alpha=0.4,color='grey')\n",
        "# add geodataframe to axes\n",
        "# assign calculated_host_listings_count variable to represent coordinates on graph\n",
        "\n",
        "# make datapoints transparent using alpha\n",
        "# assign size of points using markersize\n",
        "geo_df.plot(column='calculated_host_listings_count',ax=ax,alpha=0.5, legend=True,markersize=10)\n",
        "# add title to graph\n",
        "plt.title('AirBnb Listings in NYC', fontsize=15,fontweight='bold')\n",
        "# set latitiude and longitude boundaries for map display\n",
        "plt.xlim(-74.2658,-73.6896)\n",
        "plt.ylim( 40.4858,40.952)\n",
        "# show map\n",
        "plt.show()"
      ],
      "metadata": {
        "id": "vrdbPxrSu_98"
      },
      "execution_count": null,
      "outputs": []
    },
    {
      "cell_type": "markdown",
      "source": [
        "# **Conclusion**"
      ],
      "metadata": {
        "id": "gCX9965dhzqZ"
      }
    },
    {
      "cell_type": "markdown",
      "source": [
        "\n",
        "\n",
        "*  **Manhttan and Brooklyn** are most visited places in newyork city, Manhattan being densly populated and and a business center due to presence of stock exchanges. It has many globally recognised tourist attractions, thus people from around the globe flock into this city. It is also the **most expensive** places among other neighbourhoods.\n",
        "\n",
        "\n",
        "*  Brooklyn is both residential and industrial hotspot. Many people around the country and globe comes here in search of employment. It is the **second most expensive** neighbourhood.\n",
        " \n",
        "\n",
        "\n",
        "*  Maximum listings are in **Williamsburg** and **Harlem** Neighbourhoods in Brooklyn and Manhattan neighbourhood_group.\n",
        "\n",
        "\n",
        "\n",
        "*  Manhattan and Brooklyn are more expansive and urban facilities are more developed there compared to other neighbourhood groups, Hence there are more Airbnb listings present in these two neighbourhood groups.\n",
        "\n",
        "\n",
        "\n",
        "*  **Sonder(NYC), Blueground, Michael and David** are top 4 most Hosts. Most of their listings are in Manhattan and Brooklyn and Queens.\n",
        "\n",
        "\n",
        "*   Almost **80% **people likely to stay at rooms with price below **200**.\n",
        "\n",
        "\n",
        "\n",
        "*   Average price of all listings is **$150**.\n",
        "\n",
        "*   Prices very wildly based on property and **room types**.\n",
        "\n",
        "*   Sea Gate and Tribeca are the **most expensive** neighborhoods.\n",
        "\n",
        "\n",
        "\n",
        "*   Majority of listings are rented for their **entirety**, although private room is a close second. This is the most important factor when people choose where to stay.\n",
        "\n",
        "\n",
        "*   Duration of stay in less expensive rooms are more compared to more expensive rooms.\n",
        "\n",
        "\n",
        "*  AirBnb business competition is very high in top two Neighbourhood groups.\n",
        "\n",
        "*   For Business propespective we can study social, curtural, business and tourist locations in these Neighbourhoods so that we can find other locations having similar conditions to set up new AirBnb locations.\n",
        "\n",
        "\n",
        "\n"
      ],
      "metadata": {
        "id": "Fjb1IsQkh3yE"
      }
    }
  ]
}